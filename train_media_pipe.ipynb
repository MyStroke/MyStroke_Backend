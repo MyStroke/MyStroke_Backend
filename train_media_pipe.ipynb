{
 "cells": [
  {
   "cell_type": "code",
   "execution_count": 1,
   "id": "3b349abd-24d4-4ffe-ae25-636f1bfb2b0b",
   "metadata": {},
   "outputs": [
    {
     "name": "stderr",
     "output_type": "stream",
     "text": [
      "2023-10-11 12:36:00.531776: I tensorflow/core/util/port.cc:110] oneDNN custom operations are on. You may see slightly different numerical results due to floating-point round-off errors from different computation orders. To turn them off, set the environment variable `TF_ENABLE_ONEDNN_OPTS=0`.\n",
      "2023-10-11 12:36:00.671048: I tensorflow/core/platform/cpu_feature_guard.cc:182] This TensorFlow binary is optimized to use available CPU instructions in performance-critical operations.\n",
      "To enable the following instructions: AVX2 AVX_VNNI FMA, in other operations, rebuild TensorFlow with the appropriate compiler flags.\n",
      "2023-10-11 12:36:01.327655: W tensorflow/compiler/tf2tensorrt/utils/py_utils.cc:38] TF-TRT Warning: Could not find TensorRT\n"
     ]
    }
   ],
   "source": [
    "import mediapipe as mp\n",
    "import tensorflow as tf\n",
    "from PIL import Image\n",
    "import numpy as np\n",
    "import matplotlib.pyplot as plt\n",
    "from xml.etree import ElementTree\n",
    "\n",
    "import os\n",
    "import glob"
   ]
  },
  {
   "cell_type": "code",
   "execution_count": 2,
   "id": "79d2114a-2a82-4afd-acc3-db4fadda6367",
   "metadata": {},
   "outputs": [],
   "source": [
    "def get_image_from_folder(image_foler, basewidth=512):\n",
    "    image_files = glob.glob(os.path.join(image_foler, \"*\", \"*.jpg\"))\n",
    "\n",
    "    image_type = [i.split(\"/\")[-2] for i in image_files]\n",
    "\n",
    "    image_dict = []\n",
    "    for image_file in image_files:\n",
    "        img = Image.open(image_file)\n",
    "        img = img.convert(\"RGB\")\n",
    "        \n",
    "        wpercent = basewidth / img.size[0]\n",
    "        hsize = int(img.size[1] * wpercent)\n",
    "        img = img.resize((basewidth, hsize), Image.Resampling.LANCZOS)\n",
    "\n",
    "        image_dict.append(np.array(img))\n",
    "\n",
    "    return image_dict, image_type"
   ]
  },
  {
   "cell_type": "code",
   "execution_count": 3,
   "id": "b41dcfaa-a09c-4c8c-abbe-2d65a0100bbb",
   "metadata": {
    "scrolled": true
   },
   "outputs": [],
   "source": [
    "image_data_1, image_type_data_1 = get_image_from_folder(\"TK\")"
   ]
  },
  {
   "cell_type": "code",
   "execution_count": 4,
   "id": "5e2317eb-c45d-4f74-96a2-e594615cc4b1",
   "metadata": {},
   "outputs": [],
   "source": [
    "def get_image(xml_path, image_path, basewidth=512):\n",
    "    xml_files = glob.glob(os.path.join(xml_path, \"*.xml\"))\n",
    "\n",
    "    image_files = []\n",
    "    image_type = []\n",
    "    for xml_file in xml_files:\n",
    "        tree = ElementTree.parse(xml_file)\n",
    "        root = tree.getroot()\n",
    "\n",
    "        image_files.append(os.path.join(image_path, root.find('./filename').text))\n",
    "        image_type.append(root.findall('.//name')[0].text)\n",
    "\n",
    "    image_dict = []\n",
    "    for image_file in image_files:\n",
    "        img = Image.open(image_file)\n",
    "        img = img.convert(\"RGB\")\n",
    "\n",
    "        wpercent = basewidth / img.size[0]\n",
    "        hsize = int(img.size[1] * wpercent)\n",
    "        img = img.resize((basewidth, hsize), Image.Resampling.LANCZOS)\n",
    "\n",
    "        image_dict.append(np.array(img))\n",
    "\n",
    "    return image_dict, image_type\n"
   ]
  },
  {
   "cell_type": "code",
   "execution_count": 5,
   "id": "4c6c497c-3a24-4d9f-966b-ba6437936c66",
   "metadata": {
    "scrolled": true
   },
   "outputs": [],
   "source": [
    "image_data_2, image_type_data_2 = get_image(\"mystroke-PascalVOC-export/Annotations\", \"mystroke-PascalVOC-export/JPEGImages\")"
   ]
  },
  {
   "cell_type": "code",
   "execution_count": 6,
   "id": "1f5ac191-94fc-4b64-9ac0-94d37f0b4133",
   "metadata": {},
   "outputs": [],
   "source": [
    "image_data_2.extend(image_data_1)\n",
    "image_type_data_2.extend(image_type_data_1)"
   ]
  },
  {
   "cell_type": "code",
   "execution_count": 21,
   "id": "b0a67052-4601-4d4b-a328-dd67ff1de0e9",
   "metadata": {},
   "outputs": [],
   "source": [
    "def get_hand_data(images, images_type=None):\n",
    "    hands = mp.solutions.hands.Hands()\n",
    "\n",
    "    new_images_type = []\n",
    "    images_landmark = []\n",
    "    for i, (img, img_type) in enumerate(zip(images, images_type)):\n",
    "        hands_result = hands.process(img)\n",
    "        hand_landmark = hands_result.multi_hand_landmarks\n",
    "        if hand_landmark is None:\n",
    "            if images_type is None:\n",
    "                raise ValueError(f\"all images needs to contain hand (at {i})\")\n",
    "            else:\n",
    "                print(f\"hand not detect {img_type}\")\n",
    "                continue\n",
    "\n",
    "        landmark_list = []\n",
    "        for landmark in hand_landmark[0].landmark:\n",
    "            landmark_list.append(np.array([landmark.x, landmark.y, landmark.z]))\n",
    "\n",
    "        landmark_array = np.array(landmark_list)\n",
    "\n",
    "        images_landmark.append(landmark_array)\n",
    "        new_images_type.append(img_type)\n",
    "\n",
    "    return images_landmark, new_images_type\n",
    "        "
   ]
  },
  {
   "cell_type": "code",
   "execution_count": 22,
   "id": "278190da-1d00-44d9-a30b-e59f87aa4673",
   "metadata": {
    "scrolled": true
   },
   "outputs": [
    {
     "name": "stdout",
     "output_type": "stream",
     "text": [
      "hand not detect RE\n",
      "hand not detect HC\n",
      "hand not detect HC\n",
      "hand not detect WF\n",
      "hand not detect WF\n",
      "hand not detect WF\n",
      "hand not detect WF\n",
      "hand not detect UD\n",
      "hand not detect UD\n",
      "hand not detect UD\n",
      "hand not detect UD\n",
      "hand not detect UD\n",
      "hand not detect UD\n",
      "hand not detect UD\n",
      "hand not detect UD\n",
      "hand not detect UD\n",
      "hand not detect UD\n",
      "hand not detect UD\n",
      "hand not detect UD\n",
      "hand not detect UD\n",
      "hand not detect UD\n",
      "hand not detect UD\n",
      "hand not detect UD\n",
      "hand not detect TI\n",
      "hand not detect FL\n",
      "hand not detect FL\n",
      "hand not detect HC\n",
      "hand not detect TI\n",
      "hand not detect UD\n",
      "hand not detect WF\n"
     ]
    }
   ],
   "source": [
    "landmark_data, image_type_data_new = get_hand_data(image_data_2, image_type_data_2)"
   ]
  },
  {
   "cell_type": "code",
   "execution_count": 23,
   "id": "46835b92-8b94-4531-9db4-23c7218107f9",
   "metadata": {},
   "outputs": [
    {
     "name": "stdout",
     "output_type": "stream",
     "text": [
      "old  563\n",
      "{'UD', 'WF', 'TI', 'RE', 'HC', 'FL', 'HO'}\n",
      "new  533\n",
      "{'UD', 'WF', 'TI', 'RE', 'HC', 'FL', 'HO'}\n"
     ]
    }
   ],
   "source": [
    "print(\"old \", len(image_type_data_2))\n",
    "print(set(image_type_data_2))\n",
    "print(\"new \", len(image_type_data_new))\n",
    "print(set(image_type_data_new))"
   ]
  },
  {
   "cell_type": "code",
   "execution_count": 24,
   "id": "f787cb0e-b3b4-4d4c-bb5b-e3ee2b3418fa",
   "metadata": {},
   "outputs": [],
   "source": [
    "num_classes = len(set(image_type_data_new))"
   ]
  },
  {
   "cell_type": "code",
   "execution_count": 25,
   "id": "ba0f8258-8600-480f-b50c-37471545167b",
   "metadata": {},
   "outputs": [],
   "source": [
    "class_names = ['UD', 'HO', 'HC', 'TI', 'WF', 'FL', 'RE']"
   ]
  },
  {
   "cell_type": "code",
   "execution_count": 26,
   "id": "d1223760-d65e-4f94-ba0b-7cd84714a117",
   "metadata": {},
   "outputs": [],
   "source": [
    "def one_hot(images_type, num_classes=7, classes=class_names):\n",
    "    data_one_hot = []\n",
    "    for img_type in images_type:\n",
    "        one_hot_list = [0] * num_classes\n",
    "        \n",
    "        class_int = classes.index(img_type)\n",
    "        \n",
    "        one_hot_list[class_int] = 1\n",
    "\n",
    "        data_one_hot.append(one_hot_list)\n",
    "\n",
    "    return data_one_hot\n"
   ]
  },
  {
   "cell_type": "code",
   "execution_count": 27,
   "id": "1f1dbb4f-b077-46d4-99ef-58cde90254f8",
   "metadata": {},
   "outputs": [],
   "source": [
    "image_type_one_hot_data = one_hot(image_type_data_new)"
   ]
  },
  {
   "cell_type": "code",
   "execution_count": 28,
   "id": "ff255fe6-97f0-44d5-9524-24cca1f3ba62",
   "metadata": {},
   "outputs": [],
   "source": [
    "x_data = tf.data.Dataset.from_tensor_slices(landmark_data)\n",
    "y_data = tf.data.Dataset.from_tensor_slices(image_type_one_hot_data)\n",
    "\n",
    "dataset = tf.data.Dataset.zip((x_data, y_data))"
   ]
  },
  {
   "cell_type": "code",
   "execution_count": 29,
   "id": "f251a289-6ea1-4890-a077-9020a47d5900",
   "metadata": {},
   "outputs": [],
   "source": [
    "dataset = dataset.shuffle(dataset.cardinality())"
   ]
  },
  {
   "cell_type": "code",
   "execution_count": 30,
   "id": "5631326c-e61c-4798-94db-561e78d523cd",
   "metadata": {},
   "outputs": [],
   "source": [
    "split = int(int(dataset.cardinality()) * 0.8) \n",
    "\n",
    "data_train = dataset.take(split)\n",
    "data_val = dataset.skip(split)\n",
    "\n",
    "val_split = int(int(data_val.cardinality()) * 0.6) \n",
    "\n",
    "data_test = data_val.skip(val_split)\n",
    "data_val = data_val.take(val_split)"
   ]
  },
  {
   "cell_type": "code",
   "execution_count": 31,
   "id": "0e5219c8-f023-4486-9b03-60895233b172",
   "metadata": {},
   "outputs": [
    {
     "name": "stdout",
     "output_type": "stream",
     "text": [
      "tf.Tensor(426, shape=(), dtype=int64)\n",
      "tf.Tensor(64, shape=(), dtype=int64)\n",
      "tf.Tensor(43, shape=(), dtype=int64)\n"
     ]
    }
   ],
   "source": [
    "print(data_train.cardinality())\n",
    "print(data_val.cardinality())\n",
    "print(data_test.cardinality())"
   ]
  },
  {
   "cell_type": "code",
   "execution_count": 32,
   "id": "4e918237-ae0a-4d4d-abec-9cb76e7d6414",
   "metadata": {},
   "outputs": [],
   "source": [
    "data_train = data_train.batch(16)\n",
    "data_val = data_val.batch(16)\n",
    "data_test = data_test.batch(16)"
   ]
  },
  {
   "cell_type": "code",
   "execution_count": 33,
   "id": "8e0aadad-56f3-4cc8-bdaa-db96f2521a56",
   "metadata": {},
   "outputs": [],
   "source": [
    "AUTOTUNE = tf.data.AUTOTUNE\n",
    "\n",
    "data_train = data_train.prefetch(AUTOTUNE)\n",
    "data_val = data_val.prefetch(AUTOTUNE)\n",
    "data_test = data_test.prefetch(AUTOTUNE)"
   ]
  },
  {
   "cell_type": "code",
   "execution_count": 34,
   "id": "5b5f91f2-8615-4688-8883-438250da5add",
   "metadata": {},
   "outputs": [],
   "source": [
    "class MyModel(tf.keras.Model):\n",
    "    def __init__(self, num_classes=7):\n",
    "        super().__init__()\n",
    "\n",
    "        self.conv_1 = tf.keras.layers.Conv1D(8, 3, activation=\"mish\")\n",
    "        self.conv_2 = tf.keras.layers.Conv1D(16, 3, activation=\"mish\")\n",
    "        self.conv_3 = tf.keras.layers.Conv1D(32, 3, activation=\"mish\")\n",
    "\n",
    "        self.flatten = tf.keras.layers.Flatten()\n",
    "\n",
    "        self.dense_1 = tf.keras.layers.Dense(64, activation=\"mish\")\n",
    "        self.dense_2 = tf.keras.layers.Dense(64, activation=\"mish\")\n",
    "        self.dense_3 = tf.keras.layers.Dense(64, activation=\"mish\")\n",
    "        self.dense_4 = tf.keras.layers.Dense(64, activation=\"mish\")\n",
    "\n",
    "        self.dense_last = tf.keras.layers.Dense(num_classes)\n",
    "\n",
    "    def call(self, inputs):\n",
    "        x = inputs\n",
    "\n",
    "        x = self.conv_1(x)\n",
    "        x = self.conv_2(x)\n",
    "        x = self.conv_3(x)\n",
    "\n",
    "        x = self.flatten(x)\n",
    "\n",
    "        x = self.dense_1(x)\n",
    "        x = self.dense_2(x)\n",
    "        x = self.dense_3(x)\n",
    "        x = self.dense_4(x)\n",
    "\n",
    "        return  self.dense_last(x)\n"
   ]
  },
  {
   "cell_type": "code",
   "execution_count": 35,
   "id": "f164f131-5568-4501-8b79-ef926ac83c87",
   "metadata": {},
   "outputs": [],
   "source": [
    "model = MyModel(num_classes)\n",
    "\n",
    "model.compile(optimizer=tf.keras.optimizers.Lion(),\n",
    "              loss=tf.keras.losses.CategoricalCrossentropy(from_logits=True),\n",
    "              metrics=[\n",
    "                  tf.keras.metrics.CategoricalAccuracy(),\n",
    "                  tf.keras.metrics.TopKCategoricalAccuracy(2),\n",
    "                  ],\n",
    "             )"
   ]
  },
  {
   "cell_type": "code",
   "execution_count": 36,
   "id": "5574998a-23a0-4b56-bf55-49684cd91afb",
   "metadata": {},
   "outputs": [],
   "source": [
    "checkpoint_filepath = \"/tmp/checkpoint\"\n",
    "checkpoint_callback = tf.keras.callbacks.ModelCheckpoint(\n",
    "    checkpoint_filepath,\n",
    "    monitor=\"val_categorical_accuracy\",\n",
    "    save_best_only=True,\n",
    "    save_weights_only=True,\n",
    ")"
   ]
  },
  {
   "cell_type": "code",
   "execution_count": 37,
   "id": "0f230faf-f4f5-4587-b5e3-30b284e5340c",
   "metadata": {
    "scrolled": true
   },
   "outputs": [
    {
     "name": "stdout",
     "output_type": "stream",
     "text": [
      "Epoch 1/100\n"
     ]
    },
    {
     "name": "stderr",
     "output_type": "stream",
     "text": [
      "2023-10-11 12:40:23.591940: I tensorflow/compiler/xla/stream_executor/cuda/cuda_dnn.cc:432] Loaded cuDNN version 8600\n",
      "2023-10-11 12:40:24.610208: I tensorflow/compiler/xla/stream_executor/cuda/cuda_blas.cc:606] TensorFloat-32 will be used for the matrix multiplication. This will only be logged once.\n",
      "2023-10-11 12:40:24.620722: I tensorflow/compiler/xla/service/service.cc:168] XLA service 0x7fa566ca5e00 initialized for platform CUDA (this does not guarantee that XLA will be used). Devices:\n",
      "2023-10-11 12:40:24.620742: I tensorflow/compiler/xla/service/service.cc:176]   StreamExecutor device (0): NVIDIA GeForce RTX 4090, Compute Capability 8.9\n",
      "2023-10-11 12:40:24.639996: I tensorflow/compiler/mlir/tensorflow/utils/dump_mlir_util.cc:255] disabling MLIR crash reproducer, set env var `MLIR_CRASH_REPRODUCER_DIRECTORY` to enable.\n",
      "2023-10-11 12:40:24.742251: I ./tensorflow/compiler/jit/device_compiler.h:186] Compiled cluster using XLA!  This line is logged at most once for the lifetime of the process.\n"
     ]
    },
    {
     "name": "stdout",
     "output_type": "stream",
     "text": [
      "27/27 [==============================] - 5s 21ms/step - loss: 1.9455 - categorical_accuracy: 0.1502 - top_k_categorical_accuracy: 0.2981 - val_loss: 1.9423 - val_categorical_accuracy: 0.1719 - val_top_k_categorical_accuracy: 0.3750\n",
      "Epoch 2/100\n",
      "27/27 [==============================] - 0s 6ms/step - loss: 1.9437 - categorical_accuracy: 0.1315 - top_k_categorical_accuracy: 0.3333 - val_loss: 1.9426 - val_categorical_accuracy: 0.1250 - val_top_k_categorical_accuracy: 0.2969\n",
      "Epoch 3/100\n",
      "27/27 [==============================] - 0s 6ms/step - loss: 1.9405 - categorical_accuracy: 0.1690 - top_k_categorical_accuracy: 0.3638 - val_loss: 1.9357 - val_categorical_accuracy: 0.1250 - val_top_k_categorical_accuracy: 0.3906\n",
      "Epoch 4/100\n",
      "27/27 [==============================] - 0s 7ms/step - loss: 1.9338 - categorical_accuracy: 0.2042 - top_k_categorical_accuracy: 0.4178 - val_loss: 1.9319 - val_categorical_accuracy: 0.2031 - val_top_k_categorical_accuracy: 0.4062\n",
      "Epoch 5/100\n",
      "27/27 [==============================] - 0s 7ms/step - loss: 1.9265 - categorical_accuracy: 0.2230 - top_k_categorical_accuracy: 0.4249 - val_loss: 1.9234 - val_categorical_accuracy: 0.2500 - val_top_k_categorical_accuracy: 0.3750\n",
      "Epoch 6/100\n",
      "27/27 [==============================] - 0s 7ms/step - loss: 1.9136 - categorical_accuracy: 0.2864 - top_k_categorical_accuracy: 0.4859 - val_loss: 1.9053 - val_categorical_accuracy: 0.2656 - val_top_k_categorical_accuracy: 0.4844\n",
      "Epoch 7/100\n",
      "27/27 [==============================] - 0s 7ms/step - loss: 1.8996 - categorical_accuracy: 0.2676 - top_k_categorical_accuracy: 0.4906 - val_loss: 1.8660 - val_categorical_accuracy: 0.3125 - val_top_k_categorical_accuracy: 0.5000\n",
      "Epoch 8/100\n",
      "27/27 [==============================] - 0s 6ms/step - loss: 1.8860 - categorical_accuracy: 0.2582 - top_k_categorical_accuracy: 0.4859 - val_loss: 1.8411 - val_categorical_accuracy: 0.3281 - val_top_k_categorical_accuracy: 0.5312\n",
      "Epoch 9/100\n",
      "27/27 [==============================] - 0s 6ms/step - loss: 1.8593 - categorical_accuracy: 0.2770 - top_k_categorical_accuracy: 0.4906 - val_loss: 1.8776 - val_categorical_accuracy: 0.2500 - val_top_k_categorical_accuracy: 0.5000\n",
      "Epoch 10/100\n",
      "27/27 [==============================] - 0s 6ms/step - loss: 1.8463 - categorical_accuracy: 0.2723 - top_k_categorical_accuracy: 0.4883 - val_loss: 1.8137 - val_categorical_accuracy: 0.3125 - val_top_k_categorical_accuracy: 0.5000\n",
      "Epoch 11/100\n",
      "27/27 [==============================] - 0s 7ms/step - loss: 1.8204 - categorical_accuracy: 0.2934 - top_k_categorical_accuracy: 0.5164 - val_loss: 1.7411 - val_categorical_accuracy: 0.3438 - val_top_k_categorical_accuracy: 0.6562\n",
      "Epoch 12/100\n",
      "27/27 [==============================] - 0s 6ms/step - loss: 1.7877 - categorical_accuracy: 0.3474 - top_k_categorical_accuracy: 0.5399 - val_loss: 1.7268 - val_categorical_accuracy: 0.3125 - val_top_k_categorical_accuracy: 0.5781\n",
      "Epoch 13/100\n",
      "27/27 [==============================] - 0s 7ms/step - loss: 1.7490 - categorical_accuracy: 0.3615 - top_k_categorical_accuracy: 0.5563 - val_loss: 1.5827 - val_categorical_accuracy: 0.4062 - val_top_k_categorical_accuracy: 0.6875\n",
      "Epoch 14/100\n",
      "27/27 [==============================] - 0s 6ms/step - loss: 1.7042 - categorical_accuracy: 0.3850 - top_k_categorical_accuracy: 0.5704 - val_loss: 1.7026 - val_categorical_accuracy: 0.3125 - val_top_k_categorical_accuracy: 0.5938\n",
      "Epoch 15/100\n",
      "27/27 [==============================] - 0s 6ms/step - loss: 1.6859 - categorical_accuracy: 0.3991 - top_k_categorical_accuracy: 0.5775 - val_loss: 1.6895 - val_categorical_accuracy: 0.3750 - val_top_k_categorical_accuracy: 0.5938\n",
      "Epoch 16/100\n",
      "27/27 [==============================] - 0s 7ms/step - loss: 1.6441 - categorical_accuracy: 0.4108 - top_k_categorical_accuracy: 0.5962 - val_loss: 1.5148 - val_categorical_accuracy: 0.4375 - val_top_k_categorical_accuracy: 0.6406\n",
      "Epoch 17/100\n",
      "27/27 [==============================] - 0s 6ms/step - loss: 1.5721 - categorical_accuracy: 0.4225 - top_k_categorical_accuracy: 0.6408 - val_loss: 1.6458 - val_categorical_accuracy: 0.4375 - val_top_k_categorical_accuracy: 0.6562\n",
      "Epoch 18/100\n",
      "27/27 [==============================] - 0s 6ms/step - loss: 1.5095 - categorical_accuracy: 0.4460 - top_k_categorical_accuracy: 0.6643 - val_loss: 1.4753 - val_categorical_accuracy: 0.4062 - val_top_k_categorical_accuracy: 0.7031\n",
      "Epoch 19/100\n",
      "27/27 [==============================] - 0s 6ms/step - loss: 1.3963 - categorical_accuracy: 0.4648 - top_k_categorical_accuracy: 0.6643 - val_loss: 1.5978 - val_categorical_accuracy: 0.3750 - val_top_k_categorical_accuracy: 0.6094\n",
      "Epoch 20/100\n",
      "27/27 [==============================] - 0s 6ms/step - loss: 1.3536 - categorical_accuracy: 0.4859 - top_k_categorical_accuracy: 0.6854 - val_loss: 1.4047 - val_categorical_accuracy: 0.4375 - val_top_k_categorical_accuracy: 0.6250\n",
      "Epoch 21/100\n",
      "27/27 [==============================] - 0s 7ms/step - loss: 1.3338 - categorical_accuracy: 0.5141 - top_k_categorical_accuracy: 0.6878 - val_loss: 1.1571 - val_categorical_accuracy: 0.5312 - val_top_k_categorical_accuracy: 0.7812\n",
      "Epoch 22/100\n",
      "27/27 [==============================] - 0s 7ms/step - loss: 1.2975 - categorical_accuracy: 0.4953 - top_k_categorical_accuracy: 0.6784 - val_loss: 1.0485 - val_categorical_accuracy: 0.5625 - val_top_k_categorical_accuracy: 0.7969\n",
      "Epoch 23/100\n",
      "27/27 [==============================] - 0s 6ms/step - loss: 1.2177 - categorical_accuracy: 0.5070 - top_k_categorical_accuracy: 0.7394 - val_loss: 1.3434 - val_categorical_accuracy: 0.4375 - val_top_k_categorical_accuracy: 0.7031\n",
      "Epoch 24/100\n",
      "27/27 [==============================] - 0s 6ms/step - loss: 1.1736 - categorical_accuracy: 0.5235 - top_k_categorical_accuracy: 0.7277 - val_loss: 1.3924 - val_categorical_accuracy: 0.4688 - val_top_k_categorical_accuracy: 0.6250\n",
      "Epoch 25/100\n",
      "27/27 [==============================] - 0s 7ms/step - loss: 1.1712 - categorical_accuracy: 0.5188 - top_k_categorical_accuracy: 0.7371 - val_loss: 1.1168 - val_categorical_accuracy: 0.5781 - val_top_k_categorical_accuracy: 0.7812\n",
      "Epoch 26/100\n",
      "27/27 [==============================] - 0s 6ms/step - loss: 1.0873 - categorical_accuracy: 0.5657 - top_k_categorical_accuracy: 0.8005 - val_loss: 1.0345 - val_categorical_accuracy: 0.5312 - val_top_k_categorical_accuracy: 0.7500\n",
      "Epoch 27/100\n",
      "27/27 [==============================] - 0s 7ms/step - loss: 1.0507 - categorical_accuracy: 0.5869 - top_k_categorical_accuracy: 0.8052 - val_loss: 0.9335 - val_categorical_accuracy: 0.6406 - val_top_k_categorical_accuracy: 0.7656\n",
      "Epoch 28/100\n",
      "27/27 [==============================] - 0s 6ms/step - loss: 0.9846 - categorical_accuracy: 0.6103 - top_k_categorical_accuracy: 0.8216 - val_loss: 0.9438 - val_categorical_accuracy: 0.5938 - val_top_k_categorical_accuracy: 0.8906\n",
      "Epoch 29/100\n",
      "27/27 [==============================] - 0s 6ms/step - loss: 0.9636 - categorical_accuracy: 0.6174 - top_k_categorical_accuracy: 0.8169 - val_loss: 0.8947 - val_categorical_accuracy: 0.5469 - val_top_k_categorical_accuracy: 0.7969\n",
      "Epoch 30/100\n",
      "27/27 [==============================] - 0s 7ms/step - loss: 0.8984 - categorical_accuracy: 0.6502 - top_k_categorical_accuracy: 0.8310 - val_loss: 0.7619 - val_categorical_accuracy: 0.7656 - val_top_k_categorical_accuracy: 0.8594\n",
      "Epoch 31/100\n",
      "27/27 [==============================] - 0s 6ms/step - loss: 0.8982 - categorical_accuracy: 0.6291 - top_k_categorical_accuracy: 0.8380 - val_loss: 1.0432 - val_categorical_accuracy: 0.5625 - val_top_k_categorical_accuracy: 0.7812\n",
      "Epoch 32/100\n",
      "27/27 [==============================] - 0s 6ms/step - loss: 0.8044 - categorical_accuracy: 0.6737 - top_k_categorical_accuracy: 0.8803 - val_loss: 0.8920 - val_categorical_accuracy: 0.7188 - val_top_k_categorical_accuracy: 0.8750\n",
      "Epoch 33/100\n",
      "27/27 [==============================] - 0s 6ms/step - loss: 0.8276 - categorical_accuracy: 0.6901 - top_k_categorical_accuracy: 0.8826 - val_loss: 0.8415 - val_categorical_accuracy: 0.6719 - val_top_k_categorical_accuracy: 0.8438\n",
      "Epoch 34/100\n",
      "27/27 [==============================] - 0s 7ms/step - loss: 0.7980 - categorical_accuracy: 0.6854 - top_k_categorical_accuracy: 0.8826 - val_loss: 0.6118 - val_categorical_accuracy: 0.7969 - val_top_k_categorical_accuracy: 0.9219\n",
      "Epoch 35/100\n",
      "27/27 [==============================] - 0s 6ms/step - loss: 0.8023 - categorical_accuracy: 0.6690 - top_k_categorical_accuracy: 0.8779 - val_loss: 0.6366 - val_categorical_accuracy: 0.7344 - val_top_k_categorical_accuracy: 0.8750\n",
      "Epoch 36/100\n",
      "27/27 [==============================] - 0s 6ms/step - loss: 0.7940 - categorical_accuracy: 0.6948 - top_k_categorical_accuracy: 0.8803 - val_loss: 0.8534 - val_categorical_accuracy: 0.6094 - val_top_k_categorical_accuracy: 0.9062\n",
      "Epoch 37/100\n",
      "27/27 [==============================] - 0s 6ms/step - loss: 0.8014 - categorical_accuracy: 0.7089 - top_k_categorical_accuracy: 0.8991 - val_loss: 0.9284 - val_categorical_accuracy: 0.6562 - val_top_k_categorical_accuracy: 0.8125\n",
      "Epoch 38/100\n",
      "27/27 [==============================] - 0s 6ms/step - loss: 0.7513 - categorical_accuracy: 0.7183 - top_k_categorical_accuracy: 0.8920 - val_loss: 0.7161 - val_categorical_accuracy: 0.6875 - val_top_k_categorical_accuracy: 0.9062\n",
      "Epoch 39/100\n",
      "27/27 [==============================] - 0s 6ms/step - loss: 0.7245 - categorical_accuracy: 0.7183 - top_k_categorical_accuracy: 0.9038 - val_loss: 0.7301 - val_categorical_accuracy: 0.6719 - val_top_k_categorical_accuracy: 0.9375\n",
      "Epoch 40/100\n",
      "27/27 [==============================] - 0s 6ms/step - loss: 0.6725 - categorical_accuracy: 0.7606 - top_k_categorical_accuracy: 0.9249 - val_loss: 0.6439 - val_categorical_accuracy: 0.7812 - val_top_k_categorical_accuracy: 0.8906\n",
      "Epoch 41/100\n",
      "27/27 [==============================] - 0s 6ms/step - loss: 0.6653 - categorical_accuracy: 0.7254 - top_k_categorical_accuracy: 0.9131 - val_loss: 0.6635 - val_categorical_accuracy: 0.7500 - val_top_k_categorical_accuracy: 0.9375\n",
      "Epoch 42/100\n",
      "27/27 [==============================] - 0s 6ms/step - loss: 0.6984 - categorical_accuracy: 0.7324 - top_k_categorical_accuracy: 0.9108 - val_loss: 0.7835 - val_categorical_accuracy: 0.6562 - val_top_k_categorical_accuracy: 0.9062\n",
      "Epoch 43/100\n",
      "27/27 [==============================] - 0s 6ms/step - loss: 0.6533 - categorical_accuracy: 0.7441 - top_k_categorical_accuracy: 0.9343 - val_loss: 0.7047 - val_categorical_accuracy: 0.7500 - val_top_k_categorical_accuracy: 0.8750\n",
      "Epoch 44/100\n",
      "27/27 [==============================] - 0s 6ms/step - loss: 0.6383 - categorical_accuracy: 0.7347 - top_k_categorical_accuracy: 0.9319 - val_loss: 0.7994 - val_categorical_accuracy: 0.7188 - val_top_k_categorical_accuracy: 0.8594\n",
      "Epoch 45/100\n",
      "27/27 [==============================] - 0s 6ms/step - loss: 0.6633 - categorical_accuracy: 0.7394 - top_k_categorical_accuracy: 0.9131 - val_loss: 0.7018 - val_categorical_accuracy: 0.7031 - val_top_k_categorical_accuracy: 0.9531\n",
      "Epoch 46/100\n",
      "27/27 [==============================] - 0s 6ms/step - loss: 0.6377 - categorical_accuracy: 0.7300 - top_k_categorical_accuracy: 0.9272 - val_loss: 0.4911 - val_categorical_accuracy: 0.7188 - val_top_k_categorical_accuracy: 0.9375\n",
      "Epoch 47/100\n",
      "27/27 [==============================] - 0s 6ms/step - loss: 0.5824 - categorical_accuracy: 0.7629 - top_k_categorical_accuracy: 0.9272 - val_loss: 0.7268 - val_categorical_accuracy: 0.7344 - val_top_k_categorical_accuracy: 0.8906\n",
      "Epoch 48/100\n",
      "27/27 [==============================] - 0s 7ms/step - loss: 0.6137 - categorical_accuracy: 0.7559 - top_k_categorical_accuracy: 0.9413 - val_loss: 0.4965 - val_categorical_accuracy: 0.8281 - val_top_k_categorical_accuracy: 0.9375\n",
      "Epoch 49/100\n",
      "27/27 [==============================] - 0s 6ms/step - loss: 0.5951 - categorical_accuracy: 0.7488 - top_k_categorical_accuracy: 0.9413 - val_loss: 0.5442 - val_categorical_accuracy: 0.7812 - val_top_k_categorical_accuracy: 0.9531\n",
      "Epoch 50/100\n",
      "27/27 [==============================] - 0s 6ms/step - loss: 0.5825 - categorical_accuracy: 0.7512 - top_k_categorical_accuracy: 0.9507 - val_loss: 0.5571 - val_categorical_accuracy: 0.8125 - val_top_k_categorical_accuracy: 0.9219\n",
      "Epoch 51/100\n",
      "27/27 [==============================] - 0s 6ms/step - loss: 0.5605 - categorical_accuracy: 0.7746 - top_k_categorical_accuracy: 0.9460 - val_loss: 0.4851 - val_categorical_accuracy: 0.8281 - val_top_k_categorical_accuracy: 0.9531\n",
      "Epoch 52/100\n",
      "27/27 [==============================] - 0s 6ms/step - loss: 0.5467 - categorical_accuracy: 0.7606 - top_k_categorical_accuracy: 0.9413 - val_loss: 0.5413 - val_categorical_accuracy: 0.7812 - val_top_k_categorical_accuracy: 0.9531\n",
      "Epoch 53/100\n",
      "27/27 [==============================] - 0s 6ms/step - loss: 0.5094 - categorical_accuracy: 0.7793 - top_k_categorical_accuracy: 0.9601 - val_loss: 0.5162 - val_categorical_accuracy: 0.8125 - val_top_k_categorical_accuracy: 0.9844\n",
      "Epoch 54/100\n",
      "27/27 [==============================] - 0s 7ms/step - loss: 0.4966 - categorical_accuracy: 0.8075 - top_k_categorical_accuracy: 0.9577 - val_loss: 0.4211 - val_categorical_accuracy: 0.8750 - val_top_k_categorical_accuracy: 0.9844\n",
      "Epoch 55/100\n",
      "27/27 [==============================] - 0s 7ms/step - loss: 0.5081 - categorical_accuracy: 0.7934 - top_k_categorical_accuracy: 0.9601 - val_loss: 0.5504 - val_categorical_accuracy: 0.7500 - val_top_k_categorical_accuracy: 0.9531\n",
      "Epoch 56/100\n",
      "27/27 [==============================] - 0s 6ms/step - loss: 0.4745 - categorical_accuracy: 0.7911 - top_k_categorical_accuracy: 0.9601 - val_loss: 0.4419 - val_categorical_accuracy: 0.7969 - val_top_k_categorical_accuracy: 0.9688\n",
      "Epoch 57/100\n",
      "27/27 [==============================] - 0s 6ms/step - loss: 0.4400 - categorical_accuracy: 0.8192 - top_k_categorical_accuracy: 0.9577 - val_loss: 0.4106 - val_categorical_accuracy: 0.8438 - val_top_k_categorical_accuracy: 0.9531\n",
      "Epoch 58/100\n",
      "27/27 [==============================] - 0s 6ms/step - loss: 0.4413 - categorical_accuracy: 0.8404 - top_k_categorical_accuracy: 0.9695 - val_loss: 0.5838 - val_categorical_accuracy: 0.7812 - val_top_k_categorical_accuracy: 0.9219\n",
      "Epoch 59/100\n",
      "27/27 [==============================] - 0s 6ms/step - loss: 0.4439 - categorical_accuracy: 0.8333 - top_k_categorical_accuracy: 0.9601 - val_loss: 0.3954 - val_categorical_accuracy: 0.8750 - val_top_k_categorical_accuracy: 0.9688\n",
      "Epoch 60/100\n",
      "27/27 [==============================] - 0s 7ms/step - loss: 0.4156 - categorical_accuracy: 0.8357 - top_k_categorical_accuracy: 0.9648 - val_loss: 0.2503 - val_categorical_accuracy: 0.8906 - val_top_k_categorical_accuracy: 0.9688\n",
      "Epoch 61/100\n",
      "27/27 [==============================] - 0s 6ms/step - loss: 0.4034 - categorical_accuracy: 0.8380 - top_k_categorical_accuracy: 0.9765 - val_loss: 0.4989 - val_categorical_accuracy: 0.8125 - val_top_k_categorical_accuracy: 0.9531\n",
      "Epoch 62/100\n",
      "27/27 [==============================] - 0s 6ms/step - loss: 0.3994 - categorical_accuracy: 0.8333 - top_k_categorical_accuracy: 0.9671 - val_loss: 0.4251 - val_categorical_accuracy: 0.8594 - val_top_k_categorical_accuracy: 0.9688\n",
      "Epoch 63/100\n",
      "27/27 [==============================] - 0s 6ms/step - loss: 0.3904 - categorical_accuracy: 0.8521 - top_k_categorical_accuracy: 0.9577 - val_loss: 0.4568 - val_categorical_accuracy: 0.8281 - val_top_k_categorical_accuracy: 0.9531\n",
      "Epoch 64/100\n",
      "27/27 [==============================] - 0s 6ms/step - loss: 0.3858 - categorical_accuracy: 0.8545 - top_k_categorical_accuracy: 0.9648 - val_loss: 0.3571 - val_categorical_accuracy: 0.8906 - val_top_k_categorical_accuracy: 0.9688\n",
      "Epoch 65/100\n",
      "27/27 [==============================] - 0s 6ms/step - loss: 0.3611 - categorical_accuracy: 0.8568 - top_k_categorical_accuracy: 0.9765 - val_loss: 0.4590 - val_categorical_accuracy: 0.8281 - val_top_k_categorical_accuracy: 0.9375\n",
      "Epoch 66/100\n",
      "27/27 [==============================] - 0s 6ms/step - loss: 0.3297 - categorical_accuracy: 0.8850 - top_k_categorical_accuracy: 0.9836 - val_loss: 0.2778 - val_categorical_accuracy: 0.8750 - val_top_k_categorical_accuracy: 0.9688\n",
      "Epoch 67/100\n",
      "27/27 [==============================] - 0s 6ms/step - loss: 0.3273 - categorical_accuracy: 0.8826 - top_k_categorical_accuracy: 0.9765 - val_loss: 0.3444 - val_categorical_accuracy: 0.9219 - val_top_k_categorical_accuracy: 0.9531\n",
      "Epoch 68/100\n",
      "27/27 [==============================] - 0s 6ms/step - loss: 0.3007 - categorical_accuracy: 0.8850 - top_k_categorical_accuracy: 0.9742 - val_loss: 0.3086 - val_categorical_accuracy: 0.8906 - val_top_k_categorical_accuracy: 0.9844\n",
      "Epoch 69/100\n",
      "27/27 [==============================] - 0s 6ms/step - loss: 0.2896 - categorical_accuracy: 0.8897 - top_k_categorical_accuracy: 0.9695 - val_loss: 0.4457 - val_categorical_accuracy: 0.8281 - val_top_k_categorical_accuracy: 0.9688\n",
      "Epoch 70/100\n",
      "27/27 [==============================] - 0s 5ms/step - loss: 0.2801 - categorical_accuracy: 0.8920 - top_k_categorical_accuracy: 0.9859 - val_loss: 0.3821 - val_categorical_accuracy: 0.9062 - val_top_k_categorical_accuracy: 0.9531\n",
      "Epoch 71/100\n",
      "27/27 [==============================] - 0s 7ms/step - loss: 0.2681 - categorical_accuracy: 0.9085 - top_k_categorical_accuracy: 0.9836 - val_loss: 0.2063 - val_categorical_accuracy: 0.9375 - val_top_k_categorical_accuracy: 1.0000\n",
      "Epoch 72/100\n",
      "27/27 [==============================] - 0s 7ms/step - loss: 0.2561 - categorical_accuracy: 0.9178 - top_k_categorical_accuracy: 0.9836 - val_loss: 0.1769 - val_categorical_accuracy: 0.9688 - val_top_k_categorical_accuracy: 1.0000\n",
      "Epoch 73/100\n",
      "27/27 [==============================] - 0s 6ms/step - loss: 0.2726 - categorical_accuracy: 0.9014 - top_k_categorical_accuracy: 0.9836 - val_loss: 0.2485 - val_categorical_accuracy: 0.9062 - val_top_k_categorical_accuracy: 0.9688\n",
      "Epoch 74/100\n",
      "27/27 [==============================] - 0s 6ms/step - loss: 0.2282 - categorical_accuracy: 0.9202 - top_k_categorical_accuracy: 0.9859 - val_loss: 0.2105 - val_categorical_accuracy: 0.9062 - val_top_k_categorical_accuracy: 1.0000\n",
      "Epoch 75/100\n",
      "27/27 [==============================] - 0s 6ms/step - loss: 0.2213 - categorical_accuracy: 0.9155 - top_k_categorical_accuracy: 0.9906 - val_loss: 0.1708 - val_categorical_accuracy: 0.9375 - val_top_k_categorical_accuracy: 0.9844\n",
      "Epoch 76/100\n",
      "27/27 [==============================] - 0s 6ms/step - loss: 0.2162 - categorical_accuracy: 0.9155 - top_k_categorical_accuracy: 0.9859 - val_loss: 0.1555 - val_categorical_accuracy: 0.9531 - val_top_k_categorical_accuracy: 1.0000\n",
      "Epoch 77/100\n",
      "27/27 [==============================] - 0s 6ms/step - loss: 0.1936 - categorical_accuracy: 0.9413 - top_k_categorical_accuracy: 0.9930 - val_loss: 0.1971 - val_categorical_accuracy: 0.9375 - val_top_k_categorical_accuracy: 1.0000\n",
      "Epoch 78/100\n",
      "27/27 [==============================] - 0s 6ms/step - loss: 0.1846 - categorical_accuracy: 0.9484 - top_k_categorical_accuracy: 0.9906 - val_loss: 0.2378 - val_categorical_accuracy: 0.9219 - val_top_k_categorical_accuracy: 1.0000\n",
      "Epoch 79/100\n",
      "27/27 [==============================] - 0s 6ms/step - loss: 0.2022 - categorical_accuracy: 0.9272 - top_k_categorical_accuracy: 0.9883 - val_loss: 0.1824 - val_categorical_accuracy: 0.9219 - val_top_k_categorical_accuracy: 1.0000\n",
      "Epoch 80/100\n",
      "27/27 [==============================] - 0s 7ms/step - loss: 0.1753 - categorical_accuracy: 0.9390 - top_k_categorical_accuracy: 0.9930 - val_loss: 0.0932 - val_categorical_accuracy: 0.9844 - val_top_k_categorical_accuracy: 1.0000\n",
      "Epoch 81/100\n",
      "27/27 [==============================] - 0s 5ms/step - loss: 0.1751 - categorical_accuracy: 0.9437 - top_k_categorical_accuracy: 0.9883 - val_loss: 0.2018 - val_categorical_accuracy: 0.9531 - val_top_k_categorical_accuracy: 0.9844\n",
      "Epoch 82/100\n",
      "27/27 [==============================] - 0s 6ms/step - loss: 0.1530 - categorical_accuracy: 0.9366 - top_k_categorical_accuracy: 0.9930 - val_loss: 0.0711 - val_categorical_accuracy: 0.9844 - val_top_k_categorical_accuracy: 1.0000\n",
      "Epoch 83/100\n",
      "27/27 [==============================] - 0s 6ms/step - loss: 0.1695 - categorical_accuracy: 0.9484 - top_k_categorical_accuracy: 0.9953 - val_loss: 0.1809 - val_categorical_accuracy: 0.9531 - val_top_k_categorical_accuracy: 0.9688\n",
      "Epoch 84/100\n",
      "27/27 [==============================] - 0s 6ms/step - loss: 0.1562 - categorical_accuracy: 0.9413 - top_k_categorical_accuracy: 0.9930 - val_loss: 0.0845 - val_categorical_accuracy: 0.9844 - val_top_k_categorical_accuracy: 1.0000\n",
      "Epoch 85/100\n",
      "27/27 [==============================] - 0s 7ms/step - loss: 0.1447 - categorical_accuracy: 0.9554 - top_k_categorical_accuracy: 0.9930 - val_loss: 0.0525 - val_categorical_accuracy: 1.0000 - val_top_k_categorical_accuracy: 1.0000\n",
      "Epoch 86/100\n",
      "27/27 [==============================] - 0s 6ms/step - loss: 0.1448 - categorical_accuracy: 0.9531 - top_k_categorical_accuracy: 0.9953 - val_loss: 0.1008 - val_categorical_accuracy: 0.9688 - val_top_k_categorical_accuracy: 1.0000\n",
      "Epoch 87/100\n",
      "27/27 [==============================] - 0s 6ms/step - loss: 0.1185 - categorical_accuracy: 0.9624 - top_k_categorical_accuracy: 0.9977 - val_loss: 0.0795 - val_categorical_accuracy: 0.9688 - val_top_k_categorical_accuracy: 1.0000\n",
      "Epoch 88/100\n",
      "27/27 [==============================] - 0s 7ms/step - loss: 0.1084 - categorical_accuracy: 0.9601 - top_k_categorical_accuracy: 0.9977 - val_loss: 0.0795 - val_categorical_accuracy: 0.9844 - val_top_k_categorical_accuracy: 1.0000\n",
      "Epoch 89/100\n",
      "27/27 [==============================] - 0s 6ms/step - loss: 0.1133 - categorical_accuracy: 0.9648 - top_k_categorical_accuracy: 0.9953 - val_loss: 0.0762 - val_categorical_accuracy: 0.9844 - val_top_k_categorical_accuracy: 1.0000\n",
      "Epoch 90/100\n",
      "27/27 [==============================] - 0s 6ms/step - loss: 0.1106 - categorical_accuracy: 0.9601 - top_k_categorical_accuracy: 0.9977 - val_loss: 0.1468 - val_categorical_accuracy: 0.9375 - val_top_k_categorical_accuracy: 1.0000\n",
      "Epoch 91/100\n",
      "27/27 [==============================] - 0s 6ms/step - loss: 0.1172 - categorical_accuracy: 0.9507 - top_k_categorical_accuracy: 0.9977 - val_loss: 0.1017 - val_categorical_accuracy: 0.9688 - val_top_k_categorical_accuracy: 1.0000\n",
      "Epoch 92/100\n",
      "27/27 [==============================] - 0s 6ms/step - loss: 0.1279 - categorical_accuracy: 0.9601 - top_k_categorical_accuracy: 0.9977 - val_loss: 0.1123 - val_categorical_accuracy: 0.9531 - val_top_k_categorical_accuracy: 1.0000\n",
      "Epoch 93/100\n",
      "27/27 [==============================] - 0s 6ms/step - loss: 0.1070 - categorical_accuracy: 0.9671 - top_k_categorical_accuracy: 0.9953 - val_loss: 0.0588 - val_categorical_accuracy: 1.0000 - val_top_k_categorical_accuracy: 1.0000\n",
      "Epoch 94/100\n",
      "27/27 [==============================] - 0s 6ms/step - loss: 0.1056 - categorical_accuracy: 0.9624 - top_k_categorical_accuracy: 0.9977 - val_loss: 0.1080 - val_categorical_accuracy: 0.9531 - val_top_k_categorical_accuracy: 1.0000\n",
      "Epoch 95/100\n",
      "27/27 [==============================] - 0s 6ms/step - loss: 0.0913 - categorical_accuracy: 0.9671 - top_k_categorical_accuracy: 1.0000 - val_loss: 0.0437 - val_categorical_accuracy: 1.0000 - val_top_k_categorical_accuracy: 1.0000\n",
      "Epoch 96/100\n",
      "27/27 [==============================] - 0s 6ms/step - loss: 0.0850 - categorical_accuracy: 0.9742 - top_k_categorical_accuracy: 0.9977 - val_loss: 0.0373 - val_categorical_accuracy: 0.9844 - val_top_k_categorical_accuracy: 1.0000\n",
      "Epoch 97/100\n",
      "27/27 [==============================] - 0s 6ms/step - loss: 0.0990 - categorical_accuracy: 0.9671 - top_k_categorical_accuracy: 0.9977 - val_loss: 0.1634 - val_categorical_accuracy: 0.9531 - val_top_k_categorical_accuracy: 0.9844\n",
      "Epoch 98/100\n",
      "27/27 [==============================] - 0s 6ms/step - loss: 0.1133 - categorical_accuracy: 0.9601 - top_k_categorical_accuracy: 0.9977 - val_loss: 0.1037 - val_categorical_accuracy: 0.9531 - val_top_k_categorical_accuracy: 0.9844\n",
      "Epoch 99/100\n",
      "27/27 [==============================] - 0s 6ms/step - loss: 0.0902 - categorical_accuracy: 0.9742 - top_k_categorical_accuracy: 0.9953 - val_loss: 0.1433 - val_categorical_accuracy: 0.9531 - val_top_k_categorical_accuracy: 0.9844\n",
      "Epoch 100/100\n",
      "27/27 [==============================] - 0s 6ms/step - loss: 0.0890 - categorical_accuracy: 0.9742 - top_k_categorical_accuracy: 0.9977 - val_loss: 0.0186 - val_categorical_accuracy: 1.0000 - val_top_k_categorical_accuracy: 1.0000\n"
     ]
    },
    {
     "data": {
      "text/plain": [
       "<keras.src.callbacks.History at 0x7faa3fc61810>"
      ]
     },
     "execution_count": 37,
     "metadata": {},
     "output_type": "execute_result"
    }
   ],
   "source": [
    "model.fit(\n",
    "    data_train,\n",
    "    epochs=100,\n",
    "    validation_data=data_val,\n",
    "    callbacks=[checkpoint_callback]\n",
    ")"
   ]
  },
  {
   "cell_type": "code",
   "execution_count": 38,
   "id": "89b3c48c-46e2-46bb-85e7-9041bb5e82d9",
   "metadata": {},
   "outputs": [
    {
     "name": "stdout",
     "output_type": "stream",
     "text": [
      "Model: \"my_model\"\n",
      "_________________________________________________________________\n",
      " Layer (type)                Output Shape              Param #   \n",
      "=================================================================\n",
      " conv1d (Conv1D)             multiple                  80        \n",
      "                                                                 \n",
      " conv1d_1 (Conv1D)           multiple                  400       \n",
      "                                                                 \n",
      " conv1d_2 (Conv1D)           multiple                  1568      \n",
      "                                                                 \n",
      " flatten (Flatten)           multiple                  0         \n",
      "                                                                 \n",
      " dense (Dense)               multiple                  30784     \n",
      "                                                                 \n",
      " dense_1 (Dense)             multiple                  4160      \n",
      "                                                                 \n",
      " dense_2 (Dense)             multiple                  4160      \n",
      "                                                                 \n",
      " dense_3 (Dense)             multiple                  4160      \n",
      "                                                                 \n",
      " dense_4 (Dense)             multiple                  455       \n",
      "                                                                 \n",
      "=================================================================\n",
      "Total params: 45767 (178.78 KB)\n",
      "Trainable params: 45767 (178.78 KB)\n",
      "Non-trainable params: 0 (0.00 Byte)\n",
      "_________________________________________________________________\n"
     ]
    }
   ],
   "source": [
    "model.summary()"
   ]
  },
  {
   "cell_type": "code",
   "execution_count": 39,
   "id": "c2f17cdf-379a-4e21-b936-c03100bf8473",
   "metadata": {},
   "outputs": [
    {
     "name": "stdout",
     "output_type": "stream",
     "text": [
      "3/3 [==============================] - 0s 46ms/step - loss: 0.1275 - categorical_accuracy: 0.9302 - top_k_categorical_accuracy: 1.0000\n",
      "Test accuracy: 93.02%\n",
      "Test top 2 accuracy: 100.0%\n"
     ]
    }
   ],
   "source": [
    "model.load_weights(checkpoint_filepath)\n",
    "_, accuracy, top_2_accuracy = model.evaluate(data_test)\n",
    "print(f\"Test accuracy: {round(accuracy * 100, 2)}%\")\n",
    "print(f\"Test top 2 accuracy: {round(top_2_accuracy * 100, 2)}%\")"
   ]
  },
  {
   "cell_type": "code",
   "execution_count": 40,
   "id": "02245389-f418-4751-8381-2cfffea3e6bb",
   "metadata": {},
   "outputs": [
    {
     "name": "stdout",
     "output_type": "stream",
     "text": [
      "3/3 [==============================] - 0s 5ms/step - loss: 0.1300 - categorical_accuracy: 0.9535 - top_k_categorical_accuracy: 1.0000\n",
      "Test accuracy: 95.35%\n",
      "Test top 2 accuracy: 100.0%\n"
     ]
    }
   ],
   "source": [
    "export_model = tf.keras.Sequential([\n",
    "    model,\n",
    "    tf.keras.layers.Activation('softmax')\n",
    "])\n",
    "\n",
    "export_model.compile(optimizer=tf.keras.optimizers.Lion(),\n",
    "                     loss=tf.keras.losses.CategoricalCrossentropy(from_logits=False),\n",
    "                     metrics=[\n",
    "                             tf.keras.metrics.CategoricalAccuracy(),\n",
    "                             tf.keras.metrics.TopKCategoricalAccuracy(2)\n",
    "                             ]\n",
    "                    )\n",
    "\n",
    "_, accuracy_2, top_2_accuracy_2 = export_model.evaluate(data_test)\n",
    "print(f\"Test accuracy: {round(accuracy_2 * 100, 2)}%\")\n",
    "print(f\"Test top 2 accuracy: {round(top_2_accuracy_2 * 100, 2)}%\")"
   ]
  },
  {
   "cell_type": "code",
   "execution_count": 41,
   "id": "3e43455d-3fe7-40c6-b4b2-8befd70ddec6",
   "metadata": {},
   "outputs": [],
   "source": [
    "class ExportingModel(tf.Module):\n",
    "  def __init__(self, cnn_model, label, input_shape=(21, 3)):\n",
    "    self.cnn_model = cnn_model\n",
    "    self.input_shape = input_shape\n",
    "    self.label = label\n",
    "\n",
    "  def __call__(self, input_tensor):\n",
    "    assert input_tensor.shape == self.input_shape\n",
    "\n",
    "    prediction = self.cnn_model(tf.expand_dims(input_tensor, axis=0))\n",
    "\n",
    "    return prediction, self.label"
   ]
  },
  {
   "cell_type": "code",
   "execution_count": 42,
   "id": "edce13b7-c93a-4f50-80a9-60c271aa0db9",
   "metadata": {},
   "outputs": [],
   "source": [
    "test = ExportingModel(export_model, class_names)"
   ]
  },
  {
   "cell_type": "code",
   "execution_count": 43,
   "id": "579a90a2-56d7-4d22-a1ed-6fcf4d9fdf7c",
   "metadata": {},
   "outputs": [],
   "source": [
    "class ExportModel(tf.Module):\n",
    "  def __init__(self, model):\n",
    "    self.model = model\n",
    "\n",
    "  @tf.function(input_signature=[tf.TensorSpec(shape=(21, 3), dtype=tf.float32)])\n",
    "  def __call__(self, input_array):\n",
    "    (prediction, label) = self.model(input_array)\n",
    "\n",
    "    return prediction, label"
   ]
  },
  {
   "cell_type": "code",
   "execution_count": 45,
   "id": "1eced9b7-e49e-4d91-8553-bc5cd5d0a03a",
   "metadata": {
    "scrolled": true
   },
   "outputs": [
    {
     "name": "stdout",
     "output_type": "stream",
     "text": [
      "INFO:tensorflow:Unsupported signature for serialization: ((TensorSpec(shape=(3, 3, 8), dtype=tf.float32, name='gradient'), <tensorflow.python.framework.func_graph.UnknownArgument object at 0x7fa9d0199a50>, 140367317452640), {}).\n"
     ]
    },
    {
     "name": "stderr",
     "output_type": "stream",
     "text": [
      "INFO:tensorflow:Unsupported signature for serialization: ((TensorSpec(shape=(3, 3, 8), dtype=tf.float32, name='gradient'), <tensorflow.python.framework.func_graph.UnknownArgument object at 0x7fa9d0199a50>, 140367317452640), {}).\n"
     ]
    },
    {
     "name": "stdout",
     "output_type": "stream",
     "text": [
      "INFO:tensorflow:Unsupported signature for serialization: ((TensorSpec(shape=(8,), dtype=tf.float32, name='gradient'), <tensorflow.python.framework.func_graph.UnknownArgument object at 0x7fa9bc1daad0>, 140366981679744), {}).\n"
     ]
    },
    {
     "name": "stderr",
     "output_type": "stream",
     "text": [
      "INFO:tensorflow:Unsupported signature for serialization: ((TensorSpec(shape=(8,), dtype=tf.float32, name='gradient'), <tensorflow.python.framework.func_graph.UnknownArgument object at 0x7fa9bc1daad0>, 140366981679744), {}).\n"
     ]
    },
    {
     "name": "stdout",
     "output_type": "stream",
     "text": [
      "INFO:tensorflow:Unsupported signature for serialization: ((TensorSpec(shape=(3, 8, 16), dtype=tf.float32, name='gradient'), <tensorflow.python.framework.func_graph.UnknownArgument object at 0x7fa9bc1eaa50>, 140367317618080), {}).\n"
     ]
    },
    {
     "name": "stderr",
     "output_type": "stream",
     "text": [
      "INFO:tensorflow:Unsupported signature for serialization: ((TensorSpec(shape=(3, 8, 16), dtype=tf.float32, name='gradient'), <tensorflow.python.framework.func_graph.UnknownArgument object at 0x7fa9bc1eaa50>, 140367317618080), {}).\n"
     ]
    },
    {
     "name": "stdout",
     "output_type": "stream",
     "text": [
      "INFO:tensorflow:Unsupported signature for serialization: ((TensorSpec(shape=(16,), dtype=tf.float32, name='gradient'), <tensorflow.python.framework.func_graph.UnknownArgument object at 0x7fa994711e50>, 140367317619120), {}).\n"
     ]
    },
    {
     "name": "stderr",
     "output_type": "stream",
     "text": [
      "INFO:tensorflow:Unsupported signature for serialization: ((TensorSpec(shape=(16,), dtype=tf.float32, name='gradient'), <tensorflow.python.framework.func_graph.UnknownArgument object at 0x7fa994711e50>, 140367317619120), {}).\n"
     ]
    },
    {
     "name": "stdout",
     "output_type": "stream",
     "text": [
      "INFO:tensorflow:Unsupported signature for serialization: ((TensorSpec(shape=(3, 16, 32), dtype=tf.float32, name='gradient'), <tensorflow.python.framework.func_graph.UnknownArgument object at 0x7fa994731190>, 140367317622800), {}).\n"
     ]
    },
    {
     "name": "stderr",
     "output_type": "stream",
     "text": [
      "INFO:tensorflow:Unsupported signature for serialization: ((TensorSpec(shape=(3, 16, 32), dtype=tf.float32, name='gradient'), <tensorflow.python.framework.func_graph.UnknownArgument object at 0x7fa994731190>, 140367317622800), {}).\n"
     ]
    },
    {
     "name": "stdout",
     "output_type": "stream",
     "text": [
      "INFO:tensorflow:Unsupported signature for serialization: ((TensorSpec(shape=(32,), dtype=tf.float32, name='gradient'), <tensorflow.python.framework.func_graph.UnknownArgument object at 0x7fa9947428d0>, 140367317623840), {}).\n"
     ]
    },
    {
     "name": "stderr",
     "output_type": "stream",
     "text": [
      "INFO:tensorflow:Unsupported signature for serialization: ((TensorSpec(shape=(32,), dtype=tf.float32, name='gradient'), <tensorflow.python.framework.func_graph.UnknownArgument object at 0x7fa9947428d0>, 140367317623840), {}).\n"
     ]
    },
    {
     "name": "stdout",
     "output_type": "stream",
     "text": [
      "INFO:tensorflow:Unsupported signature for serialization: ((TensorSpec(shape=(480, 64), dtype=tf.float32, name='gradient'), <tensorflow.python.framework.func_graph.UnknownArgument object at 0x7fa994763950>, 140367317628480), {}).\n"
     ]
    },
    {
     "name": "stderr",
     "output_type": "stream",
     "text": [
      "INFO:tensorflow:Unsupported signature for serialization: ((TensorSpec(shape=(480, 64), dtype=tf.float32, name='gradient'), <tensorflow.python.framework.func_graph.UnknownArgument object at 0x7fa994763950>, 140367317628480), {}).\n"
     ]
    },
    {
     "name": "stdout",
     "output_type": "stream",
     "text": [
      "INFO:tensorflow:Unsupported signature for serialization: ((TensorSpec(shape=(64,), dtype=tf.float32, name='gradient'), <tensorflow.python.framework.func_graph.UnknownArgument object at 0x7fa994782e50>, 140367317629120), {}).\n"
     ]
    },
    {
     "name": "stderr",
     "output_type": "stream",
     "text": [
      "INFO:tensorflow:Unsupported signature for serialization: ((TensorSpec(shape=(64,), dtype=tf.float32, name='gradient'), <tensorflow.python.framework.func_graph.UnknownArgument object at 0x7fa994782e50>, 140367317629120), {}).\n"
     ]
    },
    {
     "name": "stdout",
     "output_type": "stream",
     "text": [
      "INFO:tensorflow:Unsupported signature for serialization: ((TensorSpec(shape=(64, 64), dtype=tf.float32, name='gradient'), <tensorflow.python.framework.func_graph.UnknownArgument object at 0x7fa99479a1d0>, 140367317583072), {}).\n"
     ]
    },
    {
     "name": "stderr",
     "output_type": "stream",
     "text": [
      "INFO:tensorflow:Unsupported signature for serialization: ((TensorSpec(shape=(64, 64), dtype=tf.float32, name='gradient'), <tensorflow.python.framework.func_graph.UnknownArgument object at 0x7fa99479a1d0>, 140367317583072), {}).\n"
     ]
    },
    {
     "name": "stdout",
     "output_type": "stream",
     "text": [
      "INFO:tensorflow:Unsupported signature for serialization: ((TensorSpec(shape=(64,), dtype=tf.float32, name='gradient'), <tensorflow.python.framework.func_graph.UnknownArgument object at 0x7fa9947bdb90>, 140367317585232), {}).\n"
     ]
    },
    {
     "name": "stderr",
     "output_type": "stream",
     "text": [
      "INFO:tensorflow:Unsupported signature for serialization: ((TensorSpec(shape=(64,), dtype=tf.float32, name='gradient'), <tensorflow.python.framework.func_graph.UnknownArgument object at 0x7fa9947bdb90>, 140367317585232), {}).\n"
     ]
    },
    {
     "name": "stdout",
     "output_type": "stream",
     "text": [
      "INFO:tensorflow:Unsupported signature for serialization: ((TensorSpec(shape=(64, 64), dtype=tf.float32, name='gradient'), <tensorflow.python.framework.func_graph.UnknownArgument object at 0x7fa9947cacd0>, 140367317587232), {}).\n"
     ]
    },
    {
     "name": "stderr",
     "output_type": "stream",
     "text": [
      "INFO:tensorflow:Unsupported signature for serialization: ((TensorSpec(shape=(64, 64), dtype=tf.float32, name='gradient'), <tensorflow.python.framework.func_graph.UnknownArgument object at 0x7fa9947cacd0>, 140367317587232), {}).\n"
     ]
    },
    {
     "name": "stdout",
     "output_type": "stream",
     "text": [
      "INFO:tensorflow:Unsupported signature for serialization: ((TensorSpec(shape=(64,), dtype=tf.float32, name='gradient'), <tensorflow.python.framework.func_graph.UnknownArgument object at 0x7fa9947ea150>, 140367317588992), {}).\n"
     ]
    },
    {
     "name": "stderr",
     "output_type": "stream",
     "text": [
      "INFO:tensorflow:Unsupported signature for serialization: ((TensorSpec(shape=(64,), dtype=tf.float32, name='gradient'), <tensorflow.python.framework.func_graph.UnknownArgument object at 0x7fa9947ea150>, 140367317588992), {}).\n"
     ]
    },
    {
     "name": "stdout",
     "output_type": "stream",
     "text": [
      "INFO:tensorflow:Unsupported signature for serialization: ((TensorSpec(shape=(64, 64), dtype=tf.float32, name='gradient'), <tensorflow.python.framework.func_graph.UnknownArgument object at 0x7fa99460f890>, 140367317591232), {}).\n"
     ]
    },
    {
     "name": "stderr",
     "output_type": "stream",
     "text": [
      "INFO:tensorflow:Unsupported signature for serialization: ((TensorSpec(shape=(64, 64), dtype=tf.float32, name='gradient'), <tensorflow.python.framework.func_graph.UnknownArgument object at 0x7fa99460f890>, 140367317591232), {}).\n"
     ]
    },
    {
     "name": "stdout",
     "output_type": "stream",
     "text": [
      "INFO:tensorflow:Unsupported signature for serialization: ((TensorSpec(shape=(64,), dtype=tf.float32, name='gradient'), <tensorflow.python.framework.func_graph.UnknownArgument object at 0x7fa994632dd0>, 140367317592832), {}).\n"
     ]
    },
    {
     "name": "stderr",
     "output_type": "stream",
     "text": [
      "INFO:tensorflow:Unsupported signature for serialization: ((TensorSpec(shape=(64,), dtype=tf.float32, name='gradient'), <tensorflow.python.framework.func_graph.UnknownArgument object at 0x7fa994632dd0>, 140367317592832), {}).\n"
     ]
    },
    {
     "name": "stdout",
     "output_type": "stream",
     "text": [
      "INFO:tensorflow:Unsupported signature for serialization: ((TensorSpec(shape=(64, 7), dtype=tf.float32, name='gradient'), <tensorflow.python.framework.func_graph.UnknownArgument object at 0x7fa9946520d0>, 140367317595072), {}).\n"
     ]
    },
    {
     "name": "stderr",
     "output_type": "stream",
     "text": [
      "INFO:tensorflow:Unsupported signature for serialization: ((TensorSpec(shape=(64, 7), dtype=tf.float32, name='gradient'), <tensorflow.python.framework.func_graph.UnknownArgument object at 0x7fa9946520d0>, 140367317595072), {}).\n"
     ]
    },
    {
     "name": "stdout",
     "output_type": "stream",
     "text": [
      "INFO:tensorflow:Unsupported signature for serialization: ((TensorSpec(shape=(7,), dtype=tf.float32, name='gradient'), <tensorflow.python.framework.func_graph.UnknownArgument object at 0x7fa9bc1c4090>, 140367317596672), {}).\n"
     ]
    },
    {
     "name": "stderr",
     "output_type": "stream",
     "text": [
      "INFO:tensorflow:Unsupported signature for serialization: ((TensorSpec(shape=(7,), dtype=tf.float32, name='gradient'), <tensorflow.python.framework.func_graph.UnknownArgument object at 0x7fa9bc1c4090>, 140367317596672), {}).\n"
     ]
    },
    {
     "name": "stdout",
     "output_type": "stream",
     "text": [
      "INFO:tensorflow:Unsupported signature for serialization: ((TensorSpec(shape=(3, 3, 8), dtype=tf.float32, name='gradient'), <tensorflow.python.framework.func_graph.UnknownArgument object at 0x7fa9d0199a50>, 140367317452640), {}).\n"
     ]
    },
    {
     "name": "stderr",
     "output_type": "stream",
     "text": [
      "INFO:tensorflow:Unsupported signature for serialization: ((TensorSpec(shape=(3, 3, 8), dtype=tf.float32, name='gradient'), <tensorflow.python.framework.func_graph.UnknownArgument object at 0x7fa9d0199a50>, 140367317452640), {}).\n"
     ]
    },
    {
     "name": "stdout",
     "output_type": "stream",
     "text": [
      "INFO:tensorflow:Unsupported signature for serialization: ((TensorSpec(shape=(8,), dtype=tf.float32, name='gradient'), <tensorflow.python.framework.func_graph.UnknownArgument object at 0x7fa9bc1daad0>, 140366981679744), {}).\n"
     ]
    },
    {
     "name": "stderr",
     "output_type": "stream",
     "text": [
      "INFO:tensorflow:Unsupported signature for serialization: ((TensorSpec(shape=(8,), dtype=tf.float32, name='gradient'), <tensorflow.python.framework.func_graph.UnknownArgument object at 0x7fa9bc1daad0>, 140366981679744), {}).\n"
     ]
    },
    {
     "name": "stdout",
     "output_type": "stream",
     "text": [
      "INFO:tensorflow:Unsupported signature for serialization: ((TensorSpec(shape=(3, 8, 16), dtype=tf.float32, name='gradient'), <tensorflow.python.framework.func_graph.UnknownArgument object at 0x7fa9bc1eaa50>, 140367317618080), {}).\n"
     ]
    },
    {
     "name": "stderr",
     "output_type": "stream",
     "text": [
      "INFO:tensorflow:Unsupported signature for serialization: ((TensorSpec(shape=(3, 8, 16), dtype=tf.float32, name='gradient'), <tensorflow.python.framework.func_graph.UnknownArgument object at 0x7fa9bc1eaa50>, 140367317618080), {}).\n"
     ]
    },
    {
     "name": "stdout",
     "output_type": "stream",
     "text": [
      "INFO:tensorflow:Unsupported signature for serialization: ((TensorSpec(shape=(16,), dtype=tf.float32, name='gradient'), <tensorflow.python.framework.func_graph.UnknownArgument object at 0x7fa994711e50>, 140367317619120), {}).\n"
     ]
    },
    {
     "name": "stderr",
     "output_type": "stream",
     "text": [
      "INFO:tensorflow:Unsupported signature for serialization: ((TensorSpec(shape=(16,), dtype=tf.float32, name='gradient'), <tensorflow.python.framework.func_graph.UnknownArgument object at 0x7fa994711e50>, 140367317619120), {}).\n"
     ]
    },
    {
     "name": "stdout",
     "output_type": "stream",
     "text": [
      "INFO:tensorflow:Unsupported signature for serialization: ((TensorSpec(shape=(3, 16, 32), dtype=tf.float32, name='gradient'), <tensorflow.python.framework.func_graph.UnknownArgument object at 0x7fa994731190>, 140367317622800), {}).\n"
     ]
    },
    {
     "name": "stderr",
     "output_type": "stream",
     "text": [
      "INFO:tensorflow:Unsupported signature for serialization: ((TensorSpec(shape=(3, 16, 32), dtype=tf.float32, name='gradient'), <tensorflow.python.framework.func_graph.UnknownArgument object at 0x7fa994731190>, 140367317622800), {}).\n"
     ]
    },
    {
     "name": "stdout",
     "output_type": "stream",
     "text": [
      "INFO:tensorflow:Unsupported signature for serialization: ((TensorSpec(shape=(32,), dtype=tf.float32, name='gradient'), <tensorflow.python.framework.func_graph.UnknownArgument object at 0x7fa9947428d0>, 140367317623840), {}).\n"
     ]
    },
    {
     "name": "stderr",
     "output_type": "stream",
     "text": [
      "INFO:tensorflow:Unsupported signature for serialization: ((TensorSpec(shape=(32,), dtype=tf.float32, name='gradient'), <tensorflow.python.framework.func_graph.UnknownArgument object at 0x7fa9947428d0>, 140367317623840), {}).\n"
     ]
    },
    {
     "name": "stdout",
     "output_type": "stream",
     "text": [
      "INFO:tensorflow:Unsupported signature for serialization: ((TensorSpec(shape=(480, 64), dtype=tf.float32, name='gradient'), <tensorflow.python.framework.func_graph.UnknownArgument object at 0x7fa994763950>, 140367317628480), {}).\n"
     ]
    },
    {
     "name": "stderr",
     "output_type": "stream",
     "text": [
      "INFO:tensorflow:Unsupported signature for serialization: ((TensorSpec(shape=(480, 64), dtype=tf.float32, name='gradient'), <tensorflow.python.framework.func_graph.UnknownArgument object at 0x7fa994763950>, 140367317628480), {}).\n"
     ]
    },
    {
     "name": "stdout",
     "output_type": "stream",
     "text": [
      "INFO:tensorflow:Unsupported signature for serialization: ((TensorSpec(shape=(64,), dtype=tf.float32, name='gradient'), <tensorflow.python.framework.func_graph.UnknownArgument object at 0x7fa994782e50>, 140367317629120), {}).\n"
     ]
    },
    {
     "name": "stderr",
     "output_type": "stream",
     "text": [
      "INFO:tensorflow:Unsupported signature for serialization: ((TensorSpec(shape=(64,), dtype=tf.float32, name='gradient'), <tensorflow.python.framework.func_graph.UnknownArgument object at 0x7fa994782e50>, 140367317629120), {}).\n"
     ]
    },
    {
     "name": "stdout",
     "output_type": "stream",
     "text": [
      "INFO:tensorflow:Unsupported signature for serialization: ((TensorSpec(shape=(64, 64), dtype=tf.float32, name='gradient'), <tensorflow.python.framework.func_graph.UnknownArgument object at 0x7fa99479a1d0>, 140367317583072), {}).\n"
     ]
    },
    {
     "name": "stderr",
     "output_type": "stream",
     "text": [
      "INFO:tensorflow:Unsupported signature for serialization: ((TensorSpec(shape=(64, 64), dtype=tf.float32, name='gradient'), <tensorflow.python.framework.func_graph.UnknownArgument object at 0x7fa99479a1d0>, 140367317583072), {}).\n"
     ]
    },
    {
     "name": "stdout",
     "output_type": "stream",
     "text": [
      "INFO:tensorflow:Unsupported signature for serialization: ((TensorSpec(shape=(64,), dtype=tf.float32, name='gradient'), <tensorflow.python.framework.func_graph.UnknownArgument object at 0x7fa9947bdb90>, 140367317585232), {}).\n"
     ]
    },
    {
     "name": "stderr",
     "output_type": "stream",
     "text": [
      "INFO:tensorflow:Unsupported signature for serialization: ((TensorSpec(shape=(64,), dtype=tf.float32, name='gradient'), <tensorflow.python.framework.func_graph.UnknownArgument object at 0x7fa9947bdb90>, 140367317585232), {}).\n"
     ]
    },
    {
     "name": "stdout",
     "output_type": "stream",
     "text": [
      "INFO:tensorflow:Unsupported signature for serialization: ((TensorSpec(shape=(64, 64), dtype=tf.float32, name='gradient'), <tensorflow.python.framework.func_graph.UnknownArgument object at 0x7fa9947cacd0>, 140367317587232), {}).\n"
     ]
    },
    {
     "name": "stderr",
     "output_type": "stream",
     "text": [
      "INFO:tensorflow:Unsupported signature for serialization: ((TensorSpec(shape=(64, 64), dtype=tf.float32, name='gradient'), <tensorflow.python.framework.func_graph.UnknownArgument object at 0x7fa9947cacd0>, 140367317587232), {}).\n"
     ]
    },
    {
     "name": "stdout",
     "output_type": "stream",
     "text": [
      "INFO:tensorflow:Unsupported signature for serialization: ((TensorSpec(shape=(64,), dtype=tf.float32, name='gradient'), <tensorflow.python.framework.func_graph.UnknownArgument object at 0x7fa9947ea150>, 140367317588992), {}).\n"
     ]
    },
    {
     "name": "stderr",
     "output_type": "stream",
     "text": [
      "INFO:tensorflow:Unsupported signature for serialization: ((TensorSpec(shape=(64,), dtype=tf.float32, name='gradient'), <tensorflow.python.framework.func_graph.UnknownArgument object at 0x7fa9947ea150>, 140367317588992), {}).\n"
     ]
    },
    {
     "name": "stdout",
     "output_type": "stream",
     "text": [
      "INFO:tensorflow:Unsupported signature for serialization: ((TensorSpec(shape=(64, 64), dtype=tf.float32, name='gradient'), <tensorflow.python.framework.func_graph.UnknownArgument object at 0x7fa99460f890>, 140367317591232), {}).\n"
     ]
    },
    {
     "name": "stderr",
     "output_type": "stream",
     "text": [
      "INFO:tensorflow:Unsupported signature for serialization: ((TensorSpec(shape=(64, 64), dtype=tf.float32, name='gradient'), <tensorflow.python.framework.func_graph.UnknownArgument object at 0x7fa99460f890>, 140367317591232), {}).\n"
     ]
    },
    {
     "name": "stdout",
     "output_type": "stream",
     "text": [
      "INFO:tensorflow:Unsupported signature for serialization: ((TensorSpec(shape=(64,), dtype=tf.float32, name='gradient'), <tensorflow.python.framework.func_graph.UnknownArgument object at 0x7fa994632dd0>, 140367317592832), {}).\n"
     ]
    },
    {
     "name": "stderr",
     "output_type": "stream",
     "text": [
      "INFO:tensorflow:Unsupported signature for serialization: ((TensorSpec(shape=(64,), dtype=tf.float32, name='gradient'), <tensorflow.python.framework.func_graph.UnknownArgument object at 0x7fa994632dd0>, 140367317592832), {}).\n"
     ]
    },
    {
     "name": "stdout",
     "output_type": "stream",
     "text": [
      "INFO:tensorflow:Unsupported signature for serialization: ((TensorSpec(shape=(64, 7), dtype=tf.float32, name='gradient'), <tensorflow.python.framework.func_graph.UnknownArgument object at 0x7fa9946520d0>, 140367317595072), {}).\n"
     ]
    },
    {
     "name": "stderr",
     "output_type": "stream",
     "text": [
      "INFO:tensorflow:Unsupported signature for serialization: ((TensorSpec(shape=(64, 7), dtype=tf.float32, name='gradient'), <tensorflow.python.framework.func_graph.UnknownArgument object at 0x7fa9946520d0>, 140367317595072), {}).\n"
     ]
    },
    {
     "name": "stdout",
     "output_type": "stream",
     "text": [
      "INFO:tensorflow:Unsupported signature for serialization: ((TensorSpec(shape=(7,), dtype=tf.float32, name='gradient'), <tensorflow.python.framework.func_graph.UnknownArgument object at 0x7fa9bc1c4090>, 140367317596672), {}).\n"
     ]
    },
    {
     "name": "stderr",
     "output_type": "stream",
     "text": [
      "INFO:tensorflow:Unsupported signature for serialization: ((TensorSpec(shape=(7,), dtype=tf.float32, name='gradient'), <tensorflow.python.framework.func_graph.UnknownArgument object at 0x7fa9bc1c4090>, 140367317596672), {}).\n"
     ]
    },
    {
     "name": "stdout",
     "output_type": "stream",
     "text": [
      "INFO:tensorflow:Assets written to: hand_mediapipe_85-95_(21_2)/assets\n"
     ]
    },
    {
     "name": "stderr",
     "output_type": "stream",
     "text": [
      "INFO:tensorflow:Assets written to: hand_mediapipe_85-95_(21_2)/assets\n"
     ]
    }
   ],
   "source": [
    "export_model = ExportModel(test)\n",
    "\n",
    "tf.saved_model.save(export_model, export_dir=f'hand_mediapipe_85-95_(21_2)')"
   ]
  },
  {
   "cell_type": "code",
   "execution_count": null,
   "id": "8815801d-fde6-4d7c-a339-b21fb91b50f4",
   "metadata": {},
   "outputs": [],
   "source": []
  }
 ],
 "metadata": {
  "kernelspec": {
   "display_name": "tf",
   "language": "python",
   "name": "tf"
  },
  "language_info": {
   "codemirror_mode": {
    "name": "ipython",
    "version": 3
   },
   "file_extension": ".py",
   "mimetype": "text/x-python",
   "name": "python",
   "nbconvert_exporter": "python",
   "pygments_lexer": "ipython3",
   "version": "3.11.4"
  }
 },
 "nbformat": 4,
 "nbformat_minor": 5
}
